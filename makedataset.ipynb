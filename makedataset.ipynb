{
 "cells": [
  {
   "cell_type": "code",
   "execution_count": 1,
   "metadata": {},
   "outputs": [],
   "source": [
    "import dipolarBEC"
   ]
  },
  {
   "cell_type": "code",
   "execution_count": 2,
   "metadata": {},
   "outputs": [],
   "source": [
    "# necessary python modules\n",
    "\n",
    "from tqdm import tqdm\n",
    "import numpy as np\n",
    "import os\n",
    "import pandas as pd\n",
    "from scipy.optimize import curve_fit\n",
    "import matplotlib.pyplot as plt\n",
    "import matplotlib.cm as cm\n",
    "import matplotlib as mpl"
   ]
  },
  {
   "cell_type": "code",
   "execution_count": 3,
   "metadata": {},
   "outputs": [],
   "source": [
    "#check which interaction is used and save fig in the appropriate subfolder\n",
    "\n",
    "fv = 'NN'  # 'd' or 'NN'\n",
    "\n",
    "path_dict = {\n",
    "    'd': \"C:\\\\Users\\\\camipolv\\\\Desktop\\\\dipbec\\\\fig\\\\dip\\\\\",\n",
    "    'NN': \"C:\\\\Users\\\\camipolv\\\\Desktop\\\\dipbec\\\\fig\\\\NN\\\\\"\n",
    "}\n",
    "\n",
    "fpath = path_dict.get(fv, \"Default path\")"
   ]
  },
  {
   "cell_type": "code",
   "execution_count": 4,
   "metadata": {},
   "outputs": [],
   "source": [
    "#parameters\n",
    "\n",
    "Ndisr = 1 #only one disorder realization\n",
    "Nmesh = 100\n",
    "\n",
    "N0 = 2\n",
    "N1=100\n",
    "N2=250\n",
    "N3=500\n",
    "\n",
    "kx_small = 0.01\n",
    "kx_large_dict = {'d': 8.0, 'NN': 25.0}\n",
    "kx_large = kx_large_dict.get(fv, \"Default value\")\n",
    "\n",
    "Uc = 1.0\n",
    "\n",
    "#NN: Ud << Uc/2, d: Ud << Uc/3\n",
    "Ud1_dict = {'d': 0.0, 'NN': 0.0}\n",
    "Ud2_dict = {'d': 0.02, 'NN': 0.025}\n",
    "Ud3_dict = {'d': 0.03, 'NN': 0.05}\n",
    "Ud1 = Ud1_dict.get(fv, \"Default value\")\n",
    "Ud2 = Ud2_dict.get(fv, \"Default value\")\n",
    "Ud3 = Ud3_dict.get(fv, \"Default value\")\n",
    "\n",
    "sigma1 = 0.0\n",
    "sigma2 = 0.1\n",
    "sigma3 = 0.2\n",
    "\n",
    "t1 = 1.0\n",
    "t2 = 10.0\n",
    "t3 = 15.0\n",
    "\n",
    "Ns = [N1, N2, N3]\n",
    "kxs = [kx_small, kx_large]\n",
    "sigmas = [sigma1, sigma2, sigma3]\n",
    "Uds = [Ud1, Ud2, Ud3]\n",
    "\n",
    "markers = ['s', 'o', '^']"
   ]
  },
  {
   "cell_type": "code",
   "execution_count": 5,
   "metadata": {},
   "outputs": [],
   "source": [
    "# string manipulation for filename\n",
    "def rp(txt):\n",
    "    txt = str(txt)\n",
    "    return (txt.replace('.','p')).replace('-','m')\n",
    "def get_fname(begin, params, end):\n",
    "    # given a dictionary of parameters,\n",
    "    # create a string that makes a good file name\n",
    "    keys = list( params.keys() )\n",
    "    fname = begin\n",
    "    for prm in keys:\n",
    "        prm_val = params[prm]\n",
    "        prm_name = prm\n",
    "        if type(prm_val)==str:\n",
    "            fname += '_' + rp( prm_name + prm_val)\n",
    "        elif int(prm_val) == prm_val:\n",
    "            fname += '_' + rp( prm_name+'%d'%prm_val)\n",
    "        else:\n",
    "            fname += '_' + rp( prm_name+'%3.2f'%prm_val)\n",
    "    fname += end\n",
    "    return fname"
   ]
  },
  {
   "cell_type": "code",
   "execution_count": 30,
   "metadata": {},
   "outputs": [
    {
     "name": "stderr",
     "output_type": "stream",
     "text": [
      " 33%|███▎      | 3/9 [00:00<00:00, 17.76it/s]"
     ]
    },
    {
     "name": "stdout",
     "output_type": "stream",
     "text": [
      "10\n",
      "50\n",
      "100\n",
      "150\n",
      "200\n"
     ]
    },
    {
     "name": "stderr",
     "output_type": "stream",
     "text": [
      " 56%|█████▌    | 5/9 [00:00<00:00,  4.92it/s]"
     ]
    },
    {
     "name": "stdout",
     "output_type": "stream",
     "text": [
      "250\n"
     ]
    },
    {
     "name": "stderr",
     "output_type": "stream",
     "text": [
      " 67%|██████▋   | 6/9 [00:01<00:00,  3.40it/s]"
     ]
    },
    {
     "name": "stdout",
     "output_type": "stream",
     "text": [
      "500\n"
     ]
    },
    {
     "name": "stderr",
     "output_type": "stream",
     "text": [
      " 78%|███████▊  | 7/9 [00:05<00:02,  1.23s/it]"
     ]
    },
    {
     "name": "stdout",
     "output_type": "stream",
     "text": [
      "1000\n"
     ]
    },
    {
     "name": "stderr",
     "output_type": "stream",
     "text": [
      " 89%|████████▉ | 8/9 [00:21<00:05,  5.51s/it]"
     ]
    },
    {
     "name": "stdout",
     "output_type": "stream",
     "text": [
      "2000\n"
     ]
    },
    {
     "name": "stderr",
     "output_type": "stream",
     "text": [
      "100%|██████████| 9/9 [01:44<00:00, 11.56s/it]\n"
     ]
    },
    {
     "data": {
      "text/plain": [
       "\"# Convert to a numpy array and save to a npy file\\ntosave = np.asarray( tosave, dtype=np.float64 )\\nnp.save(get_fname(fpath+fv, par, '.npy'), tosave)\\n#np.save('test.npy', tosave)\\n\\n\""
      ]
     },
     "execution_count": 30,
     "metadata": {},
     "output_type": "execute_result"
    }
   ],
   "source": [
    "Ud = Uds[2]\n",
    "sigma = sigmas[2]\n",
    "Ntar = np.asarray([10, 50, 100, 150, 200, 250, 500, 1000, 2000])#, 5000, 10000])\n",
    "# Change the way NumPy handles underflow\n",
    "np.seterr(under='ignore')\n",
    "# Take the inverse of each element\n",
    "INtar = 1.0 / Ntar\n",
    "kxar = np.asarray([0.01]) #np.linspace(kx_small, kx_large, Nmesh)\n",
    "par = {'Ud': Ud, 'sigma': sigma, 'kx': kxar[0]}\n",
    "tosave = []\n",
    "iprs = []\n",
    "for N in tqdm(Ntar):\n",
    "    print(N)\n",
    "    nb = np.random.uniform(1-sigma, 1+sigma, N)\n",
    "    for k in kxar:\n",
    "        # NN interaction\n",
    "        run = dipolarBEC.dipolarBEC(N, k, Uc, Ud, Ndisr, sigma)\n",
    "        val, ipr = run.iprAllStates(nb)\n",
    "        iprs.append(ipr[0])\n",
    "        for en, iprval in zip(val, ipr):\n",
    "            tosave.append([N, en, iprval])\n",
    "\n",
    "# Fit a line to the data\n",
    "            \n",
    "coefficients = np.polyfit(INtar, iprs, 1)\n",
    "slope = coefficients[0]\n",
    "intercept = coefficients[1]\n",
    "\n",
    "'''# Convert to a numpy array and save to a npy file\n",
    "tosave = np.asarray( tosave, dtype=np.float64 )\n",
    "np.save(get_fname(fpath+fv, par, '.npy'), tosave)\n",
    "#np.save('test.npy', tosave)\n",
    "\n",
    "'''#tosave = pd.DataFrame(tosave)\n",
    "# Save to a CSV file\n",
    "#tosave.to_csv('test.csv', header=False, index=False)'''"
   ]
  },
  {
   "cell_type": "code",
   "execution_count": 31,
   "metadata": {},
   "outputs": [
    {
     "name": "stdout",
     "output_type": "stream",
     "text": [
      "[0.1        0.02       0.01       0.00666667 0.005      0.004\n",
      " 0.002      0.001      0.0005    ]\n"
     ]
    }
   ],
   "source": [
    "print(INtar)"
   ]
  },
  {
   "cell_type": "code",
   "execution_count": 33,
   "metadata": {},
   "outputs": [
    {
     "data": {
      "image/png": "[encoded data removed]",
      "text/plain": [
       "<Figure size 640x480 with 1 Axes>"
      ]
     },
     "metadata": {},
     "output_type": "display_data"
    }
   ],
   "source": [
    "plt.plot(Ntar, iprs, label='Data')\n",
    "plt.xscale('log')\n",
    "plt.yscale('log')\n",
    "plt.show()"
   ]
  },
  {
   "cell_type": "code",
   "execution_count": 7,
   "metadata": {},
   "outputs": [
    {
     "data": {
      "text/plain": [
       "\"# Load from a CSV file\\n#data = pd.read_csv('test.csv', header=None, index_col=None)\\n\\n#no rows or columns names\\n#tosave.reset_index(drop=True, inplace=True)\\n# Or, save to a pickle file\\n#tosave.to_pickle('test.pkl')\\n\\n# And load from a pickle file\\n#data = pd.read_pickle('test.pkl')\\n#data = data.values #data.to_numpy()\""
      ]
     },
     "execution_count": 7,
     "metadata": {},
     "output_type": "execute_result"
    }
   ],
   "source": [
    "#load from a numpy file\n",
    "#data = np.load(get_fname(fpath+fv, par, '.npy'))\n",
    "#data = np.load('test.npy')\n",
    "\n",
    "'''# Load from a CSV file\n",
    "#data = pd.read_csv('test.csv', header=None, index_col=None)\n",
    "\n",
    "#no rows or columns names\n",
    "#tosave.reset_index(drop=True, inplace=True)\n",
    "# Or, save to a pickle file\n",
    "#tosave.to_pickle('test.pkl')\n",
    "\n",
    "# And load from a pickle file\n",
    "#data = pd.read_pickle('test.pkl')\n",
    "#data = data.values #data.to_numpy()'''\n",
    "\n",
    "#print(data[0:10])"
   ]
  }
 ],
 "metadata": {
  "kernelspec": {
   "display_name": "base",
   "language": "python",
   "name": "python3"
  },
  "language_info": {
   "codemirror_mode": {
    "name": "ipython",
    "version": 3
   },
   "file_extension": ".py",
   "mimetype": "text/x-python",
   "name": "python",
   "nbconvert_exporter": "python",
   "pygments_lexer": "ipython3",
   "version": "3.11.4"
  }
 },
 "nbformat": 4,
 "nbformat_minor": 2
}
