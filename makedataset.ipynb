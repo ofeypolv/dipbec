{
 "cells": [
  {
   "cell_type": "code",
   "execution_count": 8,
   "metadata": {},
   "outputs": [],
   "source": [
    "import dipolarBEC"
   ]
  },
  {
   "cell_type": "code",
   "execution_count": 9,
   "metadata": {},
   "outputs": [
    {
     "name": "stdout",
     "output_type": "stream",
     "text": [
      "['#1f77b4', '#ff7f0e', '#2ca02c', '#d62728', '#9467bd', '#8c564b', '#e377c2', '#7f7f7f', '#bcbd22', '#17becf']\n"
     ]
    }
   ],
   "source": [
    "# necessary python modules\n",
    "\n",
    "from tqdm import tqdm\n",
    "import numpy as np\n",
    "import os\n",
    "import pandas as pd\n",
    "from scipy.optimize import curve_fit\n",
    "import matplotlib.pyplot as plt\n",
    "import matplotlib.cm as cm\n",
    "import matplotlib as mpl        \n",
    "mpl.rcParams['text.usetex'] = True\n",
    "import seaborn\n",
    "font = {'family' : 'Times New Roman',\n",
    "        'weight' : 'bold',\n",
    "        'size'   : 14}\n",
    "mpl.rc('font', **font)\n",
    "\n",
    "pal = seaborn.color_palette(\"tab10\")\n",
    "print(pal.as_hex())\n",
    "\n",
    "# if seaborn does not work, try: pip install seaborn"
   ]
  },
  {
   "cell_type": "code",
   "execution_count": 10,
   "metadata": {},
   "outputs": [],
   "source": [
    "#check which interaction is used and save fig in the appropriate subfolder\n",
    "\n",
    "fv = 'd'  # 'd' or 'NN'\n",
    "\n",
    "path_dict = {\n",
    "    'd': \"C:\\\\Users\\\\camipolv\\\\Desktop\\\\dipbec\\\\fig\\\\dip\\\\\",\n",
    "    'NN': \"C:\\\\Users\\\\camipolv\\\\Desktop\\\\dipbec\\\\fig\\\\NN\\\\\"\n",
    "}\n",
    "\n",
    "fpath = path_dict.get(fv, \"Default path\")"
   ]
  },
  {
   "cell_type": "code",
   "execution_count": 11,
   "metadata": {},
   "outputs": [],
   "source": [
    "#parameters\n",
    "\n",
    "Ndisr = 1 #only one disorder realization\n",
    "Nmesh = 100\n",
    "\n",
    "N0 = 2\n",
    "N1=100\n",
    "N2=250\n",
    "N3=500\n",
    "\n",
    "kx_small = 0.01\n",
    "kx_large_dict = {'d': 8.0, 'NN': 25.0}\n",
    "kx_large = kx_large_dict.get(fv, \"Default value\")\n",
    "\n",
    "Uc = 1.0\n",
    "\n",
    "#NN: Ud << Uc/2, d: Ud << Uc/3\n",
    "Ud1_dict = {'d': 0.0, 'NN': 0.0}\n",
    "Ud2_dict = {'d': 0.02, 'NN': 0.025}\n",
    "Ud3_dict = {'d': 0.03, 'NN': 0.05}\n",
    "Ud1 = Ud1_dict.get(fv, \"Default value\")\n",
    "Ud2 = Ud2_dict.get(fv, \"Default value\")\n",
    "Ud3 = Ud3_dict.get(fv, \"Default value\")\n",
    "\n",
    "sigma1 = 0.0\n",
    "sigma2 = 0.1\n",
    "sigma3 = 0.2\n",
    "\n",
    "t1 = 1.0\n",
    "t2 = 10.0\n",
    "t3 = 15.0\n",
    "\n",
    "Ns = [N1, N2, N3]\n",
    "kxs = [kx_small, kx_large]\n",
    "sigmas = [sigma1, sigma2, sigma3]\n",
    "Uds = [Ud1, Ud2, Ud3]\n",
    "\n",
    "markers = ['s', 'o', '^']"
   ]
  },
  {
   "cell_type": "code",
   "execution_count": 12,
   "metadata": {},
   "outputs": [],
   "source": [
    "# string manipulation for filename\n",
    "def rp(txt):\n",
    "    txt = str(txt)\n",
    "    return (txt.replace('.','p')).replace('-','m')\n",
    "def get_fname(begin, params, end):\n",
    "    # given a dictionary of parameters,\n",
    "    # create a string that makes a good file name\n",
    "    keys = list( params.keys() )\n",
    "    fname = begin\n",
    "    for prm in keys:\n",
    "        prm_val = params[prm]\n",
    "        prm_name = prm\n",
    "        if type(prm_val)==str:\n",
    "            fname += '_' + rp( prm_name + prm_val)\n",
    "        elif int(prm_val) == prm_val:\n",
    "            fname += '_' + rp( prm_name+'%d'%prm_val)\n",
    "        else:\n",
    "            fname += '_' + rp( prm_name+'%3.2f'%prm_val)\n",
    "    fname += end\n",
    "    return fname"
   ]
  },
  {
   "cell_type": "code",
   "execution_count": 13,
   "metadata": {},
   "outputs": [
    {
     "name": "stderr",
     "output_type": "stream",
     "text": [
      "  0%|          | 0/11 [00:00<?, ?it/s]"
     ]
    },
    {
     "name": "stdout",
     "output_type": "stream",
     "text": [
      "10\n",
      "50\n",
      "100\n"
     ]
    },
    {
     "name": "stderr",
     "output_type": "stream",
     "text": [
      " 27%|██▋       | 3/11 [00:00<00:00, 18.63it/s]"
     ]
    },
    {
     "name": "stdout",
     "output_type": "stream",
     "text": [
      "150\n",
      "200\n"
     ]
    },
    {
     "name": "stderr",
     "output_type": "stream",
     "text": [
      " 45%|████▌     | 5/11 [00:00<00:00, 11.32it/s]"
     ]
    },
    {
     "name": "stdout",
     "output_type": "stream",
     "text": [
      "250\n",
      "500\n"
     ]
    },
    {
     "name": "stderr",
     "output_type": "stream",
     "text": [
      " 64%|██████▎   | 7/11 [00:01<00:01,  3.55it/s]"
     ]
    },
    {
     "name": "stdout",
     "output_type": "stream",
     "text": [
      "1000\n"
     ]
    },
    {
     "name": "stderr",
     "output_type": "stream",
     "text": [
      " 73%|███████▎  | 8/11 [00:05<00:03,  1.11s/it]"
     ]
    },
    {
     "name": "stdout",
     "output_type": "stream",
     "text": [
      "2000\n"
     ]
    },
    {
     "name": "stderr",
     "output_type": "stream",
     "text": [
      " 82%|████████▏ | 9/11 [01:14<00:35, 17.75s/it]"
     ]
    },
    {
     "name": "stdout",
     "output_type": "stream",
     "text": [
      "5000\n"
     ]
    }
   ],
   "source": [
    "Ud = Uds[1]\n",
    "sigma = sigmas[1]\n",
    "Ntar = np.asarray([10, 50, 100, 150, 200, 250, 500, 1000, 2000, 5000, 10000])\n",
    "kxar = np.asarray([0.01]) #np.linspace(kx_small, kx_large, Nmesh)\n",
    "par = {'Ud': Ud, 'sigma': sigma, 'kx': kxar[0]}\n",
    "for N in tqdm(Ntar):\n",
    "    print(N)\n",
    "    tosave = []\n",
    "    nb = np.random.uniform(1-sigma, 1+sigma, N)\n",
    "    for k in kxar:\n",
    "        # NN interaction\n",
    "        run = dipolarBEC.dipolarBEC(N, k, Uc, Ud, Ndisr, sigma)\n",
    "        val, ipr = run.iprAllStates(nb)\n",
    "        for en, iprval in zip(val, ipr):\n",
    "            tosave.append([N, en, iprval])\n",
    "\n",
    "# Convert to a numpy array and save to a npy file\n",
    "tosave = np.asarray( tosave, dtype=np.float64 )\n",
    "np.save(get_fname(fpath+fv, par, '.npy'), tosave)\n",
    "\n",
    "'''#tosave = pd.DataFrame(tosave)\n",
    "# Save to a CSV file\n",
    "#tosave.to_csv('test.csv', header=False, index=False)'''"
   ]
  },
  {
   "cell_type": "code",
   "execution_count": null,
   "metadata": {},
   "outputs": [
    {
     "data": {
      "text/plain": [
       "\"# Load from a CSV file\\n#data = pd.read_csv('test.csv', header=None, index_col=None)\\n\\n#no rows or columns names\\n#tosave.reset_index(drop=True, inplace=True)\\n# Or, save to a pickle file\\n#tosave.to_pickle('test.pkl')\\n\\n# And load from a pickle file\\n#data = pd.read_pickle('test.pkl')\\n#data = data.values #data.to_numpy()\""
      ]
     },
     "execution_count": 7,
     "metadata": {},
     "output_type": "execute_result"
    }
   ],
   "source": [
    "#load from a numpy file\n",
    "data = np.load(get_fname(fpath+fv, par, '.npy'))\n",
    "\n",
    "'''# Load from a CSV file\n",
    "#data = pd.read_csv('test.csv', header=None, index_col=None)\n",
    "\n",
    "#no rows or columns names\n",
    "#tosave.reset_index(drop=True, inplace=True)\n",
    "# Or, save to a pickle file\n",
    "#tosave.to_pickle('test.pkl')\n",
    "\n",
    "# And load from a pickle file\n",
    "#data = pd.read_pickle('test.pkl')\n",
    "#data = data.values #data.to_numpy()'''\n",
    "\n",
    "#print(data)"
   ]
  }
 ],
 "metadata": {
  "kernelspec": {
   "display_name": "base",
   "language": "python",
   "name": "python3"
  },
  "language_info": {
   "codemirror_mode": {
    "name": "ipython",
    "version": 3
   },
   "file_extension": ".py",
   "mimetype": "text/x-python",
   "name": "python",
   "nbconvert_exporter": "python",
   "pygments_lexer": "ipython3",
   "version": "3.11.4"
  }
 },
 "nbformat": 4,
 "nbformat_minor": 2
}
